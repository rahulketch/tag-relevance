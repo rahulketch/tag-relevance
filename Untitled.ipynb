{
 "cells": [
  {
   "cell_type": "code",
   "execution_count": 1,
   "metadata": {
    "collapsed": false
   },
   "outputs": [],
   "source": [
    "from nltk.corpus import wordnet as wn\n",
    "import scipy.sparse as sps\n",
    "import pickle\n",
    "path = \"/home/pixel/rahul/mirflickr/meta/tags/\"\n",
    "no_of_images = 25000\n"
   ]
  },
  {
   "cell_type": "code",
   "execution_count": 2,
   "metadata": {
    "collapsed": false
   },
   "outputs": [],
   "source": [
    "#This block preprocesses to get list of tags which are in more than 50 images and are in wordnet database.\n",
    "#no_of_images = 25000\n",
    "all_tags = dict.fromkeys([])\n",
    "for i in range(no_of_images):\n",
    "    with open(path+'tags{}.txt'.format(i+1)) as f:\n",
    "        file_tags = f.read().splitlines() \n",
    "        for tag in file_tags:\n",
    "            if tag in all_tags:\n",
    "                all_tags[tag] = all_tags[tag] + 1\n",
    "            elif wn.synsets(tag):\n",
    "                all_tags[tag] = 1\n",
    "rel_tags = []\n",
    "for tag in all_tags:\n",
    "    if all_tags[tag]>=50:\n",
    "        rel_tags.append(tag)\n",
    "\n",
    "                "
   ]
  },
  {
   "cell_type": "code",
   "execution_count": 5,
   "metadata": {
    "collapsed": false
   },
   "outputs": [],
   "source": [
    "#Making the ground truth for tags. \n",
    "image_rel_q = dict.fromkeys([])\n",
    "#image_nonrel_q = dict.fromkeys(rel_tags)\n",
    "for i in range(no_of_images):\n",
    "    with open(path+'tags{}.txt'.format(i+1)) as f:\n",
    "        file_tags = f.read().splitlines()\n",
    "        for tag in file_tags:\n",
    "            if tag in rel_tags:\n",
    "                if tag in image_rel_q:\n",
    "                    image_rel_q[tag].append(i)\n",
    "                else:\n",
    "                    image_rel_q[tag] = []\n",
    "                    image_rel_q[tag].append(i)\n",
    "\n",
    "\n",
    "\n",
    "\n",
    "                \n",
    "            \n",
    "            \n",
    "            \n",
    "                \n",
    "        "
   ]
  },
  {
   "cell_type": "code",
   "execution_count": 10,
   "metadata": {
    "collapsed": false
   },
   "outputs": [
    {
     "name": "stdout",
     "output_type": "stream",
     "text": [
      "0\n",
      "almost\n",
      "1\n"
     ]
    }
   ],
   "source": [
    "ground_rank_q = dict.fromkeys([])\n",
    "count = len(rel_tags)\n",
    "for tag in rel_tags:\n",
    "    print(count)\n",
    "    count-=1\n",
    "    ground_rank_q[tag] = sps.lil_matrix((no_of_images,no_of_images))\n",
    "    for i in range(no_of_images):\n",
    "        if i not in image_rel_q[tag]:\n",
    "            for j in image_rel_q[tag]:\n",
    "                ground_rank_q[tag][i,j] = -1\n",
    "                ground_rank_q[tag][j,i] = 1\n",
    "    print(\"almost\")\n",
    "    g = open('groundrank/rank_'+tag,'wb')\n",
    "    pickle.dump(ground_rank_q[tag],g)\n",
    "    g.close()\n",
    "\n",
    "\n",
    "                \n",
    "\n",
    "                \n",
    "                \n",
    "        \n",
    "\n",
    "\n"
   ]
  },
  {
   "cell_type": "code",
   "execution_count": null,
   "metadata": {
    "collapsed": true
   },
   "outputs": [],
   "source": []
  }
 ],
 "metadata": {
  "kernelspec": {
   "display_name": "Python 3",
   "language": "python",
   "name": "python3"
  },
  "language_info": {
   "codemirror_mode": {
    "name": "ipython",
    "version": 3
   },
   "file_extension": ".py",
   "mimetype": "text/x-python",
   "name": "python",
   "nbconvert_exporter": "python",
   "pygments_lexer": "ipython3",
   "version": "3.5.2"
  }
 },
 "nbformat": 4,
 "nbformat_minor": 0
}
